{
 "cells": [
  {
   "cell_type": "markdown",
   "id": "8e041eeb",
   "metadata": {},
   "source": [
    "### creating a complex number"
   ]
  },
  {
   "cell_type": "code",
   "execution_count": 6,
   "id": "740199a5",
   "metadata": {},
   "outputs": [
    {
     "name": "stdout",
     "output_type": "stream",
     "text": [
      "<class 'complex'>\n"
     ]
    }
   ],
   "source": [
    "z = 1 + 2j\n",
    "print(type(z))"
   ]
  },
  {
   "cell_type": "markdown",
   "id": "df245149",
   "metadata": {},
   "source": [
    "### Creating a set from a string"
   ]
  },
  {
   "cell_type": "code",
   "execution_count": 7,
   "id": "3169fc74",
   "metadata": {},
   "outputs": [
    {
     "data": {
      "text/plain": [
       "{' ', '!', 'e', 'h', 'i', 'r', 't'}"
      ]
     },
     "execution_count": 7,
     "metadata": {},
     "output_type": "execute_result"
    }
   ],
   "source": [
    "# the element of the set are ordered alphbetically and not repeated. The capital letters comes first.\n",
    "mes = \"hi there!\"\n",
    "s = set(mes)\n",
    "s"
   ]
  },
  {
   "cell_type": "markdown",
   "id": "faabcfb9",
   "metadata": {},
   "source": [
    "### Creating a tuple from a string"
   ]
  },
  {
   "cell_type": "code",
   "execution_count": 8,
   "id": "772623b9",
   "metadata": {},
   "outputs": [
    {
     "data": {
      "text/plain": [
       "('h', 'i', ' ', 't', 'h', 'e', 'r', 'e', '!')"
      ]
     },
     "execution_count": 8,
     "metadata": {},
     "output_type": "execute_result"
    }
   ],
   "source": [
    "tu = tuple(mes)\n",
    "tu"
   ]
  },
  {
   "cell_type": "markdown",
   "id": "1852dc86",
   "metadata": {},
   "source": [
    "### Creating a list from a string"
   ]
  },
  {
   "cell_type": "code",
   "execution_count": 9,
   "id": "4d04664c",
   "metadata": {},
   "outputs": [
    {
     "data": {
      "text/plain": [
       "['h', 'i', ' ', 't', 'h', 'e', 'r', 'e', '!']"
      ]
     },
     "execution_count": 9,
     "metadata": {},
     "output_type": "execute_result"
    }
   ],
   "source": [
    "li = list(mes)\n",
    "li"
   ]
  },
  {
   "cell_type": "markdown",
   "id": "b64824bf",
   "metadata": {},
   "source": [
    "### Tuples, sets and strings are immutable"
   ]
  },
  {
   "cell_type": "code",
   "execution_count": 10,
   "id": "3b140fa1",
   "metadata": {},
   "outputs": [
    {
     "ename": "TypeError",
     "evalue": "'str' object does not support item assignment",
     "output_type": "error",
     "traceback": [
      "\u001b[1;31m---------------------------------------------------------------------------\u001b[0m",
      "\u001b[1;31mTypeError\u001b[0m                                 Traceback (most recent call last)",
      "Cell \u001b[1;32mIn[10], line 1\u001b[0m\n\u001b[1;32m----> 1\u001b[0m mes[\u001b[38;5;241m0\u001b[39m] \u001b[38;5;241m=\u001b[39m \u001b[38;5;124m\"\u001b[39m\u001b[38;5;124mR\u001b[39m\u001b[38;5;124m\"\u001b[39m\n",
      "\u001b[1;31mTypeError\u001b[0m: 'str' object does not support item assignment"
     ]
    }
   ],
   "source": [
    "mes[0] = \"R\""
   ]
  },
  {
   "cell_type": "code",
   "execution_count": 11,
   "id": "358d4823",
   "metadata": {},
   "outputs": [
    {
     "ename": "TypeError",
     "evalue": "'type' object does not support item assignment",
     "output_type": "error",
     "traceback": [
      "\u001b[1;31m---------------------------------------------------------------------------\u001b[0m",
      "\u001b[1;31mTypeError\u001b[0m                                 Traceback (most recent call last)",
      "Cell \u001b[1;32mIn[11], line 1\u001b[0m\n\u001b[1;32m----> 1\u001b[0m \u001b[38;5;28mset\u001b[39m[\u001b[38;5;241m0\u001b[39m] \u001b[38;5;241m=\u001b[39m \u001b[38;5;124m\"\u001b[39m\u001b[38;5;124mR\u001b[39m\u001b[38;5;124m\"\u001b[39m\n",
      "\u001b[1;31mTypeError\u001b[0m: 'type' object does not support item assignment"
     ]
    }
   ],
   "source": [
    "set[0] = \"R\""
   ]
  },
  {
   "cell_type": "code",
   "execution_count": 12,
   "id": "cc493c6b",
   "metadata": {},
   "outputs": [
    {
     "ename": "TypeError",
     "evalue": "'tuple' object does not support item assignment",
     "output_type": "error",
     "traceback": [
      "\u001b[1;31m---------------------------------------------------------------------------\u001b[0m",
      "\u001b[1;31mTypeError\u001b[0m                                 Traceback (most recent call last)",
      "Cell \u001b[1;32mIn[12], line 1\u001b[0m\n\u001b[1;32m----> 1\u001b[0m tu[\u001b[38;5;241m0\u001b[39m] \u001b[38;5;241m=\u001b[39m \u001b[38;5;124m\"\u001b[39m\u001b[38;5;124mR\u001b[39m\u001b[38;5;124m\"\u001b[39m\n",
      "\u001b[1;31mTypeError\u001b[0m: 'tuple' object does not support item assignment"
     ]
    }
   ],
   "source": [
    "tu[0] = \"R\""
   ]
  },
  {
   "cell_type": "markdown",
   "id": "fd00cce9",
   "metadata": {},
   "source": [
    "### How to replace a string"
   ]
  },
  {
   "cell_type": "code",
   "execution_count": 13,
   "id": "27684e3d",
   "metadata": {},
   "outputs": [
    {
     "data": {
      "text/plain": [
       "'Hi tHere!'"
      ]
     },
     "execution_count": 13,
     "metadata": {},
     "output_type": "execute_result"
    }
   ],
   "source": [
    "# all the characters are replaced\n",
    "mes.replace(\"h\", \"H\")"
   ]
  },
  {
   "cell_type": "markdown",
   "id": "9feeef77",
   "metadata": {},
   "source": [
    "### How to split a  string"
   ]
  },
  {
   "cell_type": "code",
   "execution_count": 14,
   "id": "4865dd87",
   "metadata": {},
   "outputs": [
    {
     "data": {
      "text/plain": [
       "['hi', 'there!']"
      ]
     },
     "execution_count": 14,
     "metadata": {},
     "output_type": "execute_result"
    }
   ],
   "source": [
    "mes.split()"
   ]
  },
  {
   "cell_type": "markdown",
   "id": "1bbde32f",
   "metadata": {},
   "source": [
    "### How to insert an item to a list"
   ]
  },
  {
   "cell_type": "code",
   "execution_count": 15,
   "id": "b9c0d03d",
   "metadata": {},
   "outputs": [
    {
     "name": "stdout",
     "output_type": "stream",
     "text": [
      "[0, 1, 'Hello']\n",
      "[0, -1, 1, 'Hello']\n"
     ]
    }
   ],
   "source": [
    "# The first argument of the insert function is the index in which you want to insert\n",
    "ln = [0, 1]\n",
    "ln.insert(2, \"Hello\")\n",
    "print(ln)\n",
    "ln.insert(1, -1)\n",
    "print(ln)"
   ]
  },
  {
   "cell_type": "markdown",
   "id": "361fb604",
   "metadata": {},
   "source": [
    "### How to add an item to the end of a list"
   ]
  },
  {
   "cell_type": "code",
   "execution_count": 16,
   "id": "3a8c0f21",
   "metadata": {},
   "outputs": [
    {
     "data": {
      "text/plain": [
       "[1]"
      ]
     },
     "execution_count": 16,
     "metadata": {},
     "output_type": "execute_result"
    }
   ],
   "source": [
    "l0 = []\n",
    "l0.append(1)\n",
    "l0"
   ]
  },
  {
   "cell_type": "code",
   "execution_count": 17,
   "id": "a845050d",
   "metadata": {},
   "outputs": [
    {
     "data": {
      "text/plain": [
       "[1, 2]"
      ]
     },
     "execution_count": 17,
     "metadata": {},
     "output_type": "execute_result"
    }
   ],
   "source": [
    "l0.append(2)\n",
    "l0"
   ]
  },
  {
   "cell_type": "markdown",
   "id": "08ee1727",
   "metadata": {},
   "source": [
    "### How to remove an item from a list by its value"
   ]
  },
  {
   "cell_type": "code",
   "execution_count": 18,
   "id": "91731a56",
   "metadata": {},
   "outputs": [
    {
     "data": {
      "text/plain": [
       "[1, 4, 5, 7]"
      ]
     },
     "execution_count": 18,
     "metadata": {},
     "output_type": "execute_result"
    }
   ],
   "source": [
    "# The argument of remove is the index of the element you wanna remove\n",
    "l1 = [1, 1, 4, 5, 7]\n",
    "l1.remove(1)\n",
    "l1"
   ]
  },
  {
   "cell_type": "markdown",
   "id": "7fbf8958",
   "metadata": {},
   "source": [
    "### How to reverse a list"
   ]
  },
  {
   "cell_type": "code",
   "execution_count": 19,
   "id": "6104a94b",
   "metadata": {},
   "outputs": [
    {
     "data": {
      "text/plain": [
       "[9, 8, 7, 6, 5, 4, 3, 2, 1]"
      ]
     },
     "execution_count": 19,
     "metadata": {},
     "output_type": "execute_result"
    }
   ],
   "source": [
    "l = [1, 2, 3, 4, 5, 6, 7, 8, 9]\n",
    "l.reverse()\n",
    "l"
   ]
  },
  {
   "cell_type": "markdown",
   "id": "7e084f3e",
   "metadata": {},
   "source": [
    "### How to remove an item from a list by its index"
   ]
  },
  {
   "cell_type": "code",
   "execution_count": 20,
   "id": "29eed61d",
   "metadata": {},
   "outputs": [
    {
     "data": {
      "text/plain": [
       "[9, 7, 6, 5, 4, 3, 2, 1]"
      ]
     },
     "execution_count": 20,
     "metadata": {},
     "output_type": "execute_result"
    }
   ],
   "source": [
    "# The argument of pop is the index of the element you wanna remove\n",
    "l.pop(1)\n",
    "l"
   ]
  },
  {
   "cell_type": "markdown",
   "id": "006380c1",
   "metadata": {},
   "source": [
    "### Delete and clear"
   ]
  },
  {
   "cell_type": "code",
   "execution_count": 21,
   "id": "4426ce21",
   "metadata": {},
   "outputs": [
    {
     "data": {
      "text/plain": [
       "[9, 3, 2, 1]"
      ]
     },
     "execution_count": 21,
     "metadata": {},
     "output_type": "execute_result"
    }
   ],
   "source": [
    "# remove the elements from index 1 to index 4 (5 is not included)\n",
    "del l[1:5]\n",
    "l"
   ]
  },
  {
   "cell_type": "code",
   "execution_count": 22,
   "id": "fb967791",
   "metadata": {},
   "outputs": [
    {
     "data": {
      "text/plain": [
       "[]"
      ]
     },
     "execution_count": 22,
     "metadata": {},
     "output_type": "execute_result"
    }
   ],
   "source": [
    "# remove all the elements from the list\n",
    "l.clear()\n",
    "l"
   ]
  },
  {
   "cell_type": "markdown",
   "id": "a1c20d99",
   "metadata": {},
   "source": [
    "###  Creating a set"
   ]
  },
  {
   "cell_type": "code",
   "execution_count": 23,
   "id": "56dd4106",
   "metadata": {},
   "outputs": [
    {
     "name": "stdout",
     "output_type": "stream",
     "text": [
      "{0, 1} {0, 'a'} {0, 1, 2} {'x', 'a'}\n"
     ]
    }
   ],
   "source": [
    "#\n",
    "En = {0, 1}\n",
    "Enr = {1, 2, 0, 0}\n",
    "Enc = {0, \"a\"}\n",
    "Ecr = {\"x\", \"a\", \"a\"}\n",
    "print(En, Enc, Enr, Ecr)"
   ]
  },
  {
   "cell_type": "markdown",
   "id": "e90a333d",
   "metadata": {},
   "source": [
    "### Creating a dictionnary"
   ]
  },
  {
   "cell_type": "code",
   "execution_count": 24,
   "id": "c923c17d",
   "metadata": {},
   "outputs": [
    {
     "data": {
      "text/plain": [
       "{0: 'a', 1: 'b'}"
      ]
     },
     "execution_count": 24,
     "metadata": {},
     "output_type": "execute_result"
    }
   ],
   "source": [
    "# The key can be a number, alphabet, etc\n",
    "dic = {0: \"a\", 1: \"b\"}\n",
    "dic"
   ]
  },
  {
   "cell_type": "markdown",
   "id": "6f057fc7",
   "metadata": {},
   "source": [
    "## Tables (or matrices) "
   ]
  },
  {
   "cell_type": "code",
   "execution_count": 25,
   "id": "63383e3d",
   "metadata": {},
   "outputs": [
    {
     "name": "stdout",
     "output_type": "stream",
     "text": [
      "array('i', [0, 1])\n",
      "array('d', [0.1, 1.0])\n"
     ]
    }
   ],
   "source": [
    "import array as arr\n",
    "# The first argument is the intries type. \"i\" for int and \"d\" for decimal\n",
    "Ti = arr.array(\"i\", [0, 1])\n",
    "Td = arr.array(\"d\", [0.1, 1])\n",
    "print(Ti)\n",
    "print(Td)"
   ]
  },
  {
   "cell_type": "code",
   "execution_count": 26,
   "id": "5af4403e",
   "metadata": {},
   "outputs": [
    {
     "name": "stdout",
     "output_type": "stream",
     "text": [
      "[-1  1]\n"
     ]
    }
   ],
   "source": [
    "import numpy as np\n",
    "v = np.array([-1, 1])\n",
    "print(v)"
   ]
  },
  {
   "cell_type": "code",
   "execution_count": 27,
   "id": "189811e5",
   "metadata": {},
   "outputs": [
    {
     "name": "stdout",
     "output_type": "stream",
     "text": [
      "[[ 0  1]\n",
      " [ 1 -1]]\n"
     ]
    }
   ],
   "source": [
    "m = np.array([[0, 1], [1, -1]])\n",
    "print(m)"
   ]
  },
  {
   "cell_type": "markdown",
   "id": "4dfac7a7",
   "metadata": {},
   "source": [
    "### print\n"
   ]
  },
  {
   "cell_type": "code",
   "execution_count": 28,
   "id": "433c8813",
   "metadata": {},
   "outputs": [
    {
     "name": "stdout",
     "output_type": "stream",
     "text": [
      "31003.1416\n",
      "3 100 3.1416\n",
      "3;100;3.1416\n",
      "3\n",
      "100\n",
      "3.1416\n",
      "x= 3 y= 100;"
     ]
    }
   ],
   "source": [
    "x, y, z = 3, 100, 3.1416\n",
    "\n",
    "print(x, y, z, sep=\"\")\n",
    "print(x, y, z, sep=\" \")\n",
    "print(x, y, z, sep=\";\")\n",
    "print(x, y, z, sep=\"\\n\")\n",
    "print(\"x=\", x, \"y=\", y, sep=\" \", end=\";\")"
   ]
  },
  {
   "cell_type": "markdown",
   "id": "7ec47fd9",
   "metadata": {},
   "source": [
    "### input"
   ]
  },
  {
   "cell_type": "code",
   "execution_count": 29,
   "id": "76ead750",
   "metadata": {},
   "outputs": [
    {
     "name": "stdout",
     "output_type": "stream",
     "text": [
      "Enter an integer: \n"
     ]
    },
    {
     "ename": "ValueError",
     "evalue": "invalid literal for int() with base 10: ''",
     "output_type": "error",
     "traceback": [
      "\u001b[1;31m---------------------------------------------------------------------------\u001b[0m",
      "\u001b[1;31mValueError\u001b[0m                                Traceback (most recent call last)",
      "Cell \u001b[1;32mIn[29], line 1\u001b[0m\n\u001b[1;32m----> 1\u001b[0m n \u001b[38;5;241m=\u001b[39m \u001b[38;5;28;43mint\u001b[39;49m\u001b[43m(\u001b[49m\u001b[38;5;28;43minput\u001b[39;49m\u001b[43m(\u001b[49m\u001b[38;5;124;43m\"\u001b[39;49m\u001b[38;5;124;43mEnter an integer: \u001b[39;49m\u001b[38;5;124;43m\"\u001b[39;49m\u001b[43m)\u001b[49m\u001b[43m)\u001b[49m\n\u001b[0;32m      2\u001b[0m m \u001b[38;5;241m=\u001b[39m \u001b[38;5;28mfloat\u001b[39m(\u001b[38;5;28minput\u001b[39m(\u001b[38;5;124m\"\u001b[39m\u001b[38;5;124mEnter a float: \u001b[39m\u001b[38;5;124m\"\u001b[39m))\n\u001b[0;32m      3\u001b[0m \u001b[38;5;28mprint\u001b[39m(\u001b[38;5;124m\"\u001b[39m\u001b[38;5;124mThe sum of n and m is: \u001b[39m\u001b[38;5;124m\"\u001b[39m, n \u001b[38;5;241m+\u001b[39m m)\n",
      "\u001b[1;31mValueError\u001b[0m: invalid literal for int() with base 10: ''"
     ]
    }
   ],
   "source": [
    "n = int(input(\"Enter an integer: \"))\n",
    "m = float(input(\"Enter a float: \"))\n",
    "print(\"The sum of n and m is: \", n + m)\n"
   ]
  },
  {
   "cell_type": "markdown",
   "id": "04e422d7",
   "metadata": {},
   "source": [
    "### Loops"
   ]
  },
  {
   "cell_type": "code",
   "execution_count": 30,
   "id": "e28d9cf3",
   "metadata": {},
   "outputs": [
    {
     "name": "stdout",
     "output_type": "stream",
     "text": [
      "0 1 2 3 4 5 6 7 8 9 "
     ]
    }
   ],
   "source": [
    "for k in range(10):\n",
    "    print(k, end=\" \")"
   ]
  },
  {
   "cell_type": "code",
   "execution_count": 31,
   "id": "105a2893",
   "metadata": {},
   "outputs": [
    {
     "name": "stdout",
     "output_type": "stream",
     "text": [
      "1 2 3 4 "
     ]
    }
   ],
   "source": [
    "for i in range(1, 5):\n",
    "    print(i, end=\" \")"
   ]
  },
  {
   "cell_type": "code",
   "execution_count": 32,
   "id": "a081c3cb",
   "metadata": {},
   "outputs": [
    {
     "name": "stdout",
     "output_type": "stream",
     "text": [
      "0 2 4 6 8 "
     ]
    }
   ],
   "source": [
    "for i in range(0, 10, 2):\n",
    "    print(i, end=\" \")"
   ]
  },
  {
   "cell_type": "markdown",
   "id": "91e54170",
   "metadata": {},
   "source": [
    "### Exercices"
   ]
  },
  {
   "cell_type": "code",
   "execution_count": 33,
   "id": "7eb040a8",
   "metadata": {},
   "outputs": [
    {
     "name": "stdout",
     "output_type": "stream",
     "text": [
      "The sum is:  338350\n"
     ]
    }
   ],
   "source": [
    "sum = 0\n",
    "for i in range(1, 101):\n",
    "    sum += i * i\n",
    "print(\"The sum is: \", sum)"
   ]
  },
  {
   "cell_type": "code",
   "execution_count": 34,
   "id": "a2a39df9",
   "metadata": {},
   "outputs": [
    {
     "name": "stdout",
     "output_type": "stream",
     "text": [
      "1 4 9 16 "
     ]
    }
   ],
   "source": [
    "L = [1, 2, 3, 4]\n",
    "for i in L:\n",
    "    print(i ** 2, end=\" \")"
   ]
  },
  {
   "cell_type": "code",
   "execution_count": 35,
   "id": "ac080991",
   "metadata": {},
   "outputs": [
    {
     "name": "stdout",
     "output_type": "stream",
     "text": [
      "{16, 1, 4, 9}\n"
     ]
    }
   ],
   "source": [
    "s = {1, 2, 3, 4}\n",
    "s = {x ** 2 for x in s}\n",
    "print(s)"
   ]
  },
  {
   "cell_type": "code",
   "execution_count": 36,
   "id": "0fc4808b",
   "metadata": {},
   "outputs": [
    {
     "name": "stdout",
     "output_type": "stream",
     "text": [
      "Enter an integer: \n"
     ]
    },
    {
     "ename": "ValueError",
     "evalue": "invalid literal for int() with base 10: ''",
     "output_type": "error",
     "traceback": [
      "\u001b[1;31m---------------------------------------------------------------------------\u001b[0m",
      "\u001b[1;31mValueError\u001b[0m                                Traceback (most recent call last)",
      "Cell \u001b[1;32mIn[36], line 1\u001b[0m\n\u001b[1;32m----> 1\u001b[0m n \u001b[38;5;241m=\u001b[39m \u001b[38;5;28;43mint\u001b[39;49m\u001b[43m(\u001b[49m\u001b[38;5;28;43minput\u001b[39;49m\u001b[43m(\u001b[49m\u001b[38;5;124;43m\"\u001b[39;49m\u001b[38;5;124;43mEnter an integer: \u001b[39;49m\u001b[38;5;124;43m\"\u001b[39;49m\u001b[43m)\u001b[49m\u001b[43m)\u001b[49m\n\u001b[0;32m      2\u001b[0m \u001b[38;5;28;01mif\u001b[39;00m n \u001b[38;5;241m%\u001b[39m \u001b[38;5;241m2\u001b[39m \u001b[38;5;241m==\u001b[39m \u001b[38;5;241m0\u001b[39m:\n\u001b[0;32m      3\u001b[0m     \u001b[38;5;28mprint\u001b[39m(n, \u001b[38;5;124m\"\u001b[39m\u001b[38;5;124m is an even number\u001b[39m\u001b[38;5;124m\"\u001b[39m)\n",
      "\u001b[1;31mValueError\u001b[0m: invalid literal for int() with base 10: ''"
     ]
    }
   ],
   "source": [
    "n = int(input(\"Enter an integer: \"))\n",
    "if n % 2 == 0:\n",
    "    print(n, \" is an even number\")\n",
    "else:\n",
    "    print(n, \" is an odd number\")"
   ]
  },
  {
   "cell_type": "code",
   "execution_count": 37,
   "id": "59be2cd3",
   "metadata": {},
   "outputs": [
    {
     "name": "stdout",
     "output_type": "stream",
     "text": [
      "x | f(x)\n",
      "-----------\n"
     ]
    },
    {
     "ename": "NameError",
     "evalue": "name 'f' is not defined",
     "output_type": "error",
     "traceback": [
      "\u001b[1;31m---------------------------------------------------------------------------\u001b[0m",
      "\u001b[1;31mNameError\u001b[0m                                 Traceback (most recent call last)",
      "Cell \u001b[1;32mIn[37], line 4\u001b[0m\n\u001b[0;32m      2\u001b[0m \u001b[38;5;28mprint\u001b[39m(\u001b[38;5;124m\"\u001b[39m\u001b[38;5;124m-----------\u001b[39m\u001b[38;5;124m\"\u001b[39m)\n\u001b[0;32m      3\u001b[0m \u001b[38;5;28;01mfor\u001b[39;00m i \u001b[38;5;129;01min\u001b[39;00m \u001b[38;5;28mrange\u001b[39m(\u001b[38;5;241m5\u001b[39m):\n\u001b[1;32m----> 4\u001b[0m     \u001b[38;5;28mprint\u001b[39m(i , \u001b[38;5;124m\"\u001b[39m\u001b[38;5;124m|\u001b[39m\u001b[38;5;124m\"\u001b[39m, \u001b[43mf\u001b[49m(i))\n\u001b[0;32m      5\u001b[0m     \u001b[38;5;28mprint\u001b[39m(\u001b[38;5;124m\"\u001b[39m\u001b[38;5;124m-----------\u001b[39m\u001b[38;5;124m\"\u001b[39m)\n",
      "\u001b[1;31mNameError\u001b[0m: name 'f' is not defined"
     ]
    }
   ],
   "source": [
    "print(\"x | f(x)\")\n",
    "print(\"-----------\")\n",
    "for i in range(5):\n",
    "    print(i , \"|\", f(i))\n",
    "    print(\"-----------\")"
   ]
  },
  {
   "cell_type": "markdown",
   "id": "648d23dd",
   "metadata": {},
   "source": [
    "### functions"
   ]
  },
  {
   "cell_type": "code",
   "execution_count": 38,
   "id": "d5ec82ac",
   "metadata": {},
   "outputs": [
    {
     "data": {
      "text/plain": [
       "345"
      ]
     },
     "execution_count": 38,
     "metadata": {},
     "output_type": "execute_result"
    }
   ],
   "source": [
    "def f(x):\n",
    "    return x**7 - 6 * x**6 + 15 * x**4 + 23 * x**3 + 23 * x**3 + x - 9\n",
    "\n",
    "f(2)"
   ]
  },
  {
   "cell_type": "markdown",
   "id": "d6ffda23",
   "metadata": {},
   "source": [
    "### Math library"
   ]
  },
  {
   "cell_type": "code",
   "execution_count": 39,
   "id": "2daf59a9",
   "metadata": {},
   "outputs": [
    {
     "data": {
      "text/plain": [
       "1.0"
      ]
     },
     "execution_count": 39,
     "metadata": {},
     "output_type": "execute_result"
    }
   ],
   "source": [
    "import math\n",
    "def exp(x):\n",
    "    return math.exp(-x**2 / 2)\n",
    "exp(0)"
   ]
  },
  {
   "cell_type": "code",
   "execution_count": 40,
   "id": "a29d7e53",
   "metadata": {},
   "outputs": [
    {
     "data": {
      "text/plain": [
       "3"
      ]
     },
     "execution_count": 40,
     "metadata": {},
     "output_type": "execute_result"
    }
   ],
   "source": [
    "def f(x, y):\n",
    "    return x + y\n",
    "f(1, 2)"
   ]
  },
  {
   "cell_type": "markdown",
   "id": "f21cf112",
   "metadata": {},
   "source": [
    "### while condition"
   ]
  },
  {
   "cell_type": "code",
   "execution_count": 41,
   "id": "3bfa307a",
   "metadata": {},
   "outputs": [
    {
     "name": "stdout",
     "output_type": "stream",
     "text": [
      "Enter the dividend: \n"
     ]
    },
    {
     "ename": "ValueError",
     "evalue": "invalid literal for int() with base 10: ''",
     "output_type": "error",
     "traceback": [
      "\u001b[1;31m---------------------------------------------------------------------------\u001b[0m",
      "\u001b[1;31mValueError\u001b[0m                                Traceback (most recent call last)",
      "Cell \u001b[1;32mIn[41], line 1\u001b[0m\n\u001b[1;32m----> 1\u001b[0m a \u001b[38;5;241m=\u001b[39m \u001b[38;5;28;43mint\u001b[39;49m\u001b[43m(\u001b[49m\u001b[38;5;28;43minput\u001b[39;49m\u001b[43m(\u001b[49m\u001b[38;5;124;43m\"\u001b[39;49m\u001b[38;5;124;43mEnter the dividend: \u001b[39;49m\u001b[38;5;124;43m\"\u001b[39;49m\u001b[43m)\u001b[49m\u001b[43m)\u001b[49m\n\u001b[0;32m      2\u001b[0m b \u001b[38;5;241m=\u001b[39m \u001b[38;5;28mint\u001b[39m(\u001b[38;5;28minput\u001b[39m(\u001b[38;5;124m\"\u001b[39m\u001b[38;5;124mEnter the divisor: \u001b[39m\u001b[38;5;124m\"\u001b[39m))\n\u001b[0;32m      4\u001b[0m r, q \u001b[38;5;241m=\u001b[39m \u001b[38;5;241m0\u001b[39m, \u001b[38;5;241m0\u001b[39m\n",
      "\u001b[1;31mValueError\u001b[0m: invalid literal for int() with base 10: ''"
     ]
    }
   ],
   "source": [
    "a = int(input(\"Enter the dividend: \"))\n",
    "b = int(input(\"Enter the divisor: \"))\n",
    "\n",
    "r, q = 0, 0\n",
    "while a >= b:\n",
    "    q += 1\n",
    "    a -= b\n",
    "r = a\n",
    "print(\"the rest is: \", r)\n",
    "print(\"the quotient is: \", q)"
   ]
  },
  {
   "cell_type": "code",
   "execution_count": 42,
   "id": "4aa6c47b",
   "metadata": {},
   "outputs": [
    {
     "data": {
      "text/plain": [
       "1"
      ]
     },
     "execution_count": 42,
     "metadata": {},
     "output_type": "execute_result"
    }
   ],
   "source": [
    "def gcd(a, b):\n",
    "    while b != 0:\n",
    "        a, b =  b, a % b\n",
    "    return a\n",
    "\n",
    "gcd(26, 7)"
   ]
  },
  {
   "cell_type": "code",
   "execution_count": 43,
   "id": "3bf5d706",
   "metadata": {},
   "outputs": [
    {
     "data": {
      "text/plain": [
       "1"
      ]
     },
     "execution_count": 43,
     "metadata": {},
     "output_type": "execute_result"
    }
   ],
   "source": [
    "def gcd_recursive(a, b):\n",
    "    if b == 0:\n",
    "        return a\n",
    "    return gcd_recursive(b, a % b)\n",
    "gcd_recursive(26, 7)"
   ]
  },
  {
   "cell_type": "code",
   "execution_count": 44,
   "id": "b97e2672",
   "metadata": {},
   "outputs": [
    {
     "data": {
      "text/plain": [
       "182"
      ]
     },
     "execution_count": 44,
     "metadata": {},
     "output_type": "execute_result"
    }
   ],
   "source": [
    "def lcm_of_two(a, b):\n",
    "    return a * b // gcd(a, b)\n",
    "lcm_of_two(26, 7)"
   ]
  },
  {
   "cell_type": "code",
   "execution_count": 45,
   "id": "0254ea67",
   "metadata": {},
   "outputs": [
    {
     "data": {
      "text/plain": [
       "6"
      ]
     },
     "execution_count": 45,
     "metadata": {},
     "output_type": "execute_result"
    }
   ],
   "source": [
    "def lcm_of_three(a, b, c):\n",
    "    return lcm_of_two(lcm_of_two(a, b), c)\n",
    "lcm_of_three(1,2, 3)"
   ]
  },
  {
   "cell_type": "code",
   "execution_count": 3,
   "id": "a5a218f2",
   "metadata": {},
   "outputs": [
    {
     "data": {
      "text/plain": [
       "True"
      ]
     },
     "execution_count": 3,
     "metadata": {},
     "output_type": "execute_result"
    }
   ],
   "source": [
    "def is_prime(n):\n",
    "    if n == 1:\n",
    "        return False\n",
    "    for i in range(2, n):\n",
    "        if n % i == 0:\n",
    "            return False\n",
    "    return True\n",
    "\n",
    "is_prime(641)"
   ]
  },
  {
   "cell_type": "code",
   "execution_count": 47,
   "id": "cb191295",
   "metadata": {},
   "outputs": [
    {
     "data": {
      "text/plain": [
       "1100"
      ]
     },
     "execution_count": 47,
     "metadata": {},
     "output_type": "execute_result"
    }
   ],
   "source": [
    "def convert_to_bin(a):\n",
    "    bin = 0\n",
    "    i = 0\n",
    "    while a > 0:\n",
    "        bin +=  (a % 2) * 10 ** i\n",
    "        a = a // 2\n",
    "        i += 1\n",
    "    return bin\n",
    "convert_to_bin(12)"
   ]
  },
  {
   "cell_type": "code",
   "execution_count": 48,
   "id": "6e9d706b",
   "metadata": {},
   "outputs": [],
   "source": [
    "def convert_to_hex(a):\n",
    "    hex = \"\"\n",
    "    hex_map = { 10: \"A\", 11: \"B\", 12: \"C\", 13: \"D\", 14: \"E\", 15: \"F\" }\n",
    "    while a > 0:\n",
    "        r = a % 16\n",
    "        if r in hex_map:\n",
    "            hex = hex_map[r] + hex\n",
    "        else:\n",
    "            hex = str(r) + hex\n",
    "        a = math.floor(a / 16)\n",
    "    hex = reverse_str(hex)\n",
    "    return hex"
   ]
  },
  {
   "cell_type": "code",
   "execution_count": 49,
   "id": "6aa3ae5a",
   "metadata": {},
   "outputs": [
    {
     "data": {
      "text/plain": [
       "([2, 3], [1, 3])"
      ]
     },
     "execution_count": 49,
     "metadata": {},
     "output_type": "execute_result"
    }
   ],
   "source": [
    "def factorize(n):\n",
    "    factors = []\n",
    "    powers = []\n",
    "    for i in range(2, n + 1):\n",
    "        if n % i == 0:\n",
    "            factors.append(i)\n",
    "            power = 0\n",
    "            while n % i == 0:\n",
    "                    n = n / i\n",
    "                    power += 1\n",
    "            powers.append(power)\n",
    "    return factors, powers\n",
    "                    \n",
    "factorize(54)"
   ]
  },
  {
   "cell_type": "code",
   "execution_count": 50,
   "id": "fdceca18",
   "metadata": {},
   "outputs": [
    {
     "data": {
      "text/plain": [
       "'8'"
      ]
     },
     "execution_count": 50,
     "metadata": {},
     "output_type": "execute_result"
    }
   ],
   "source": [
    "import math\n",
    "def convert_to_bin(a):\n",
    "    bin = 0\n",
    "    i = 0\n",
    "    while a > 0:\n",
    "        bin +=  (a % 2) * math.pow(10, i)\n",
    "        a = math.floor(a / 2)\n",
    "        i += 1\n",
    "    return bin\n",
    "\n",
    "\n",
    "def convert_to_hex(a):\n",
    "    hex = \"\"\n",
    "    hex_map = { 10: \"A\", 11: \"B\", 12: \"C\", 13: \"D\", 14: \"E\", 15: \"F\" }\n",
    "    while a > 0:\n",
    "        r = a % 16\n",
    "        if r in hex_map:\n",
    "            hex += hex_map[r]\n",
    "        else:\n",
    "            hex += str(r)\n",
    "        a = math.floor(a / 16)\n",
    "    return hex\n",
    "\n",
    "convert_to_hex(8)\n"
   ]
  },
  {
   "cell_type": "code",
   "execution_count": 51,
   "id": "de24b673",
   "metadata": {},
   "outputs": [
    {
     "data": {
      "text/plain": [
       "78"
      ]
     },
     "execution_count": 51,
     "metadata": {},
     "output_type": "execute_result"
    }
   ],
   "source": [
    "def lcm_with_factorization(a, b):\n",
    "    lcm = 1\n",
    "    a_factors, a_powers = factorize(a)\n",
    "    b_factors, b_powers = factorize(b)\n",
    "    for i in range(len(a_factors)):\n",
    "        found = False\n",
    "        for j in range(len(b_factors)):\n",
    "            if a_factors[i] == b_factors[j]:\n",
    "                lcm = lcm * a_factors[i] ** max(a_powers[i], b_powers[j])\n",
    "                found = True\n",
    "                del b_factors[j]\n",
    "                del b_powers[j]\n",
    "                break\n",
    "        if not found:\n",
    "            lcm = lcm * a_factors[i] ** a_powers[i]\n",
    "    for i in range(len(b_factors)):\n",
    "        lcm = lcm * b_factors[i] ** b_powers[i]\n",
    "    return lcm\n",
    "            \n",
    "lcm_with_factorization(6, 13)\n",
    "        "
   ]
  },
  {
   "cell_type": "code",
   "execution_count": 52,
   "id": "c9ac2436",
   "metadata": {},
   "outputs": [
    {
     "data": {
      "text/plain": [
       "11"
      ]
     },
     "execution_count": 52,
     "metadata": {},
     "output_type": "execute_result"
    }
   ],
   "source": [
    "def gcd_with_factorization(a, b):\n",
    "    gcd = 1\n",
    "    a_factors, a_powers = factorize(a)\n",
    "    b_factors, b_powers = factorize(b)\n",
    "    for i in range(len(a_factors)):\n",
    "        for j in range(len(b_factors)):\n",
    "            if a_factors[i] == b_factors[j]:\n",
    "                gcd = gcd * a_factors[i] ** min(a_powers[i], b_powers[j])\n",
    "    return gcd\n",
    "gcd_with_factorization(11,22)"
   ]
  },
  {
   "cell_type": "code",
   "execution_count": 53,
   "id": "21d40071",
   "metadata": {},
   "outputs": [
    {
     "data": {
      "text/plain": [
       "8"
      ]
     },
     "execution_count": 53,
     "metadata": {},
     "output_type": "execute_result"
    }
   ],
   "source": [
    "def convert_to_decimal(n):\n",
    "    decimal = 0\n",
    "    i = 0\n",
    "    while n > 0:\n",
    "        decimal = (2 ** i) * (n % 10)\n",
    "        n = n // 10\n",
    "        i = i + 1\n",
    "    return decimal\n",
    "\n",
    "convert_to_decimal(1111)"
   ]
  },
  {
   "cell_type": "code",
   "execution_count": 54,
   "id": "2240e8e1",
   "metadata": {},
   "outputs": [
    {
     "data": {
      "text/plain": [
       "40"
      ]
     },
     "execution_count": 54,
     "metadata": {},
     "output_type": "execute_result"
    }
   ],
   "source": [
    "def phi(n):\n",
    "    phi = 0\n",
    "    for i in range(1, n):\n",
    "        if gcd(i, n) == 1:\n",
    "            phi = phi + 1\n",
    "    return phi\n",
    "phi(100)"
   ]
  },
  {
   "cell_type": "code",
   "execution_count": 55,
   "id": "69a0f7c8",
   "metadata": {},
   "outputs": [
    {
     "data": {
      "text/plain": [
       "40"
      ]
     },
     "execution_count": 55,
     "metadata": {},
     "output_type": "execute_result"
    }
   ],
   "source": [
    "def phi_with_factorization(n):\n",
    "    phi = 1\n",
    "    factors, powers = factorize(n)\n",
    "    for i in range(len(factors)):\n",
    "        phi = phi * factors[i] ** (powers[i] - factors[i] ** (powers[i] - 1))\n",
    "    return phi\n",
    "phi(100)"
   ]
  },
  {
   "cell_type": "code",
   "execution_count": 56,
   "id": "5a07f111",
   "metadata": {},
   "outputs": [
    {
     "data": {
      "text/plain": [
       "3"
      ]
     },
     "execution_count": 56,
     "metadata": {},
     "output_type": "execute_result"
    }
   ],
   "source": [
    "def inverse(a, n):\n",
    "    for i in range(1, n):\n",
    "        if gcd(i, n) == 1:\n",
    "            if (a * i) % n == 1:\n",
    "                return i       \n",
    "    return \"Not found\"\n",
    "inverse(26, 7)"
   ]
  },
  {
   "cell_type": "code",
   "execution_count": 57,
   "id": "58dcd348",
   "metadata": {},
   "outputs": [
    {
     "data": {
      "text/plain": [
       "(3, -11, 1)"
      ]
     },
     "execution_count": 57,
     "metadata": {},
     "output_type": "execute_result"
    }
   ],
   "source": [
    "def bezout(a, b):\n",
    "    A, B = a, b\n",
    "    u, v = 1, 0\n",
    "    U, V = 0, 1\n",
    "    while b > 0:\n",
    "        r, q = a % b, a // b\n",
    "        a, b = b, r\n",
    "        temp1 = u - q * U\n",
    "        temp2 = v - q * V\n",
    "        u, v = U, V\n",
    "        U, V = temp1, temp2\n",
    "    return u, v, a\n",
    "bezout(26, 7)"
   ]
  },
  {
   "cell_type": "code",
   "execution_count": 58,
   "id": "9a4a0217",
   "metadata": {},
   "outputs": [
    {
     "data": {
      "text/plain": [
       "(3, -11, 1)"
      ]
     },
     "execution_count": 58,
     "metadata": {},
     "output_type": "execute_result"
    }
   ],
   "source": [
    "def bezout_recursive(a, b):\n",
    "    if b == 0:\n",
    "        return 1, 0, a\n",
    "    else:\n",
    "        q, r = a // b, a % b\n",
    "        x, y, gcd = bezout(b, r)\n",
    "        return y, x - q * y, gcd\n",
    "bezout_recursive(26, 7)"
   ]
  },
  {
   "cell_type": "markdown",
   "id": "b18929c5",
   "metadata": {},
   "source": [
    "### Cesar cipher\n"
   ]
  },
  {
   "cell_type": "code",
   "execution_count": 90,
   "id": "ffb268e6",
   "metadata": {},
   "outputs": [
    {
     "name": "stdout",
     "output_type": "stream",
     "text": [
      "ifnnpalzaoblfajtabcefnalbkjeambotpvttjajablabatuvefouajanpwfalbuiflbujdtaboeadplqvufsatdjfodfajaxboobacfabalbuiflbujdjbo\n"
     ]
    }
   ],
   "source": [
    "class Cesar_Cipher:\n",
    "    def __init__(self):\n",
    "        self.ALPHABETS = \"abcdefghijkmlnopqrstuvwxyz \"\n",
    "        \n",
    "    def encrypt(self, plain_text, k):\n",
    "        cipher_text = \"\"\n",
    "        for letter in plain_text:\n",
    "            i = self.ALPHABETS.index(letter)\n",
    "            cipher_text += self.ALPHABETS[(i + k) % len(self.ALPHABETS)]\n",
    "        return cipher_text\n",
    "    \n",
    "    def decrypt(self, cipher_text, k):\n",
    "        plain_text = \"\"\n",
    "        for letter in cipher_text:\n",
    "            i = self.ALPHABETS.index(letter)\n",
    "            plain_text += self.ALPHABETS[(i - k) % len(self.ALPHABETS)]\n",
    "        return plain_text\n",
    "\n",
    "cesar = Cesar_Cipher()\n",
    "a = cesar.encrypt(\"hello my name is abdel majid kansoussi i am a student i love mathematics and computer science i wanna be a mathematician\", 1)\n",
    "print(a)\n",
    "# b = cesar.decrypt(a, 1)\n",
    "# print(b)"
   ]
  },
  {
   "cell_type": "markdown",
   "id": "0a6ea6da",
   "metadata": {},
   "source": [
    "### Affine Cipher\n",
    "##### Remark: a and 26 must be relatively prime"
   ]
  },
  {
   "cell_type": "code",
   "execution_count": 5,
   "id": "b284f195",
   "metadata": {},
   "outputs": [
    {
     "name": "stdout",
     "output_type": "stream",
     "text": [
      "aujbb\n"
     ]
    },
    {
     "ename": "NameError",
     "evalue": "name 'inverse' is not defined",
     "output_type": "error",
     "traceback": [
      "\u001b[1;31m---------------------------------------------------------------------------\u001b[0m",
      "\u001b[1;31mNameError\u001b[0m                                 Traceback (most recent call last)",
      "Cell \u001b[1;32mIn[5], line 23\u001b[0m\n\u001b[0;32m     21\u001b[0m a \u001b[38;5;241m=\u001b[39m affine\u001b[38;5;241m.\u001b[39maffine_encrypt(\u001b[38;5;124m\"\u001b[39m\u001b[38;5;124mdriss\u001b[39m\u001b[38;5;124m\"\u001b[39m, \u001b[38;5;241m7\u001b[39m, \u001b[38;5;241m5\u001b[39m)\n\u001b[0;32m     22\u001b[0m \u001b[38;5;28mprint\u001b[39m(a)\n\u001b[1;32m---> 23\u001b[0m b \u001b[38;5;241m=\u001b[39m \u001b[43maffine\u001b[49m\u001b[38;5;241;43m.\u001b[39;49m\u001b[43maffine_decrypt\u001b[49m\u001b[43m(\u001b[49m\u001b[43ma\u001b[49m\u001b[43m,\u001b[49m\u001b[43m \u001b[49m\u001b[38;5;241;43m7\u001b[39;49m\u001b[43m,\u001b[49m\u001b[43m \u001b[49m\u001b[38;5;241;43m5\u001b[39;49m\u001b[43m)\u001b[49m\n\u001b[0;32m     24\u001b[0m \u001b[38;5;28mprint\u001b[39m(b)\n",
      "Cell \u001b[1;32mIn[5], line 14\u001b[0m, in \u001b[0;36mAffine_Cipher.affine_decrypt\u001b[1;34m(self, cipher_text, a, b)\u001b[0m\n\u001b[0;32m     12\u001b[0m \u001b[38;5;28;01mdef\u001b[39;00m \u001b[38;5;21maffine_decrypt\u001b[39m(\u001b[38;5;28mself\u001b[39m, cipher_text, a, b):\n\u001b[0;32m     13\u001b[0m     plain_text \u001b[38;5;241m=\u001b[39m \u001b[38;5;124m\"\u001b[39m\u001b[38;5;124m\"\u001b[39m\n\u001b[1;32m---> 14\u001b[0m     inverse_of_a \u001b[38;5;241m=\u001b[39m \u001b[43minverse\u001b[49m(a, \u001b[38;5;241m26\u001b[39m)\n\u001b[0;32m     15\u001b[0m     \u001b[38;5;28;01mfor\u001b[39;00m letter \u001b[38;5;129;01min\u001b[39;00m cipher_text:\n\u001b[0;32m     16\u001b[0m         i \u001b[38;5;241m=\u001b[39m \u001b[38;5;28mself\u001b[39m\u001b[38;5;241m.\u001b[39mALPHABETS\u001b[38;5;241m.\u001b[39mindex(letter)\n",
      "\u001b[1;31mNameError\u001b[0m: name 'inverse' is not defined"
     ]
    }
   ],
   "source": [
    "class Affine_Cipher:\n",
    "    def __init__(self):\n",
    "        self.ALPHABETS = \"abcdefghijklmnopqrstuvwxyz\"\n",
    "        \n",
    "    def affine_encrypt(self, plain_text, a, b):\n",
    "        cipher_text = \"\"\n",
    "        for letter in plain_text:\n",
    "            i = self.ALPHABETS.index(letter)\n",
    "            cipher_text += self.ALPHABETS[(a * i + b) % 26]\n",
    "        return cipher_text\n",
    "\n",
    "    def affine_decrypt(self, cipher_text, a, b):\n",
    "        plain_text = \"\"\n",
    "        inverse_of_a = inverse(a, 26)\n",
    "        for letter in cipher_text:\n",
    "            i = self.ALPHABETS.index(letter)\n",
    "            plain_text += self.ALPHABETS[((i - b) * inverse_of_a) % 26]\n",
    "        return plain_text\n",
    "    \n",
    "affine = Affine_Cipher()\n",
    "a = affine.affine_encrypt(\"driss\", 7, 5)\n",
    "print(a)\n",
    "b = affine.affine_decrypt(a, 7, 5)\n",
    "print(b)"
   ]
  },
  {
   "cell_type": "markdown",
   "id": "bbcc8d06",
   "metadata": {},
   "source": [
    "### Block Cipher\n"
   ]
  },
  {
   "cell_type": "code",
   "execution_count": 77,
   "id": "118f46fd",
   "metadata": {},
   "outputs": [
    {
     "name": "stdout",
     "output_type": "stream",
     "text": [
      "gsiuu\n",
      "driss\n"
     ]
    }
   ],
   "source": [
    "\n",
    "class ECB:\n",
    "    def __init__(self):\n",
    "        self.ALPHABETS = \"abcdefghijklmnopqrstuvwxyz +-*#$\"\n",
    "    \n",
    "    def inverse_permutation(self, permutation):\n",
    "        inverse = [0] * len(permutation)\n",
    "        for i, p in enumerate(permutation):\n",
    "            inverse[p] = i\n",
    "        return inverse\n",
    "        \n",
    "    \n",
    "    def convert_to_binary(self, a):\n",
    "        binary = []\n",
    "        while a > 0:\n",
    "            binary.insert(0, a % 2)\n",
    "            a = a // 2\n",
    "        return binary\n",
    "        \n",
    "    def convert_to_decimal(self, binary):\n",
    "        decimal = 0\n",
    "        binary.reverse()\n",
    "        for i in range(len(binary)):\n",
    "            decimal += (2 ** i) * binary[i]    \n",
    "        return decimal\n",
    "    \n",
    "    def permutate_list(self, li, permutation):\n",
    "        permutated_li = []\n",
    "        for i in permutation:\n",
    "            permutated_li.append(li[i])\n",
    "        return permutated_li\n",
    "    \n",
    "    def padd_list(self, li):\n",
    "        while len(li) < 5:\n",
    "            li.insert(0, 0)\n",
    "        return li\n",
    "    \n",
    "            \n",
    "    def encrypt(self, plain_text, permutation):\n",
    "        cipher_text = \"\"\n",
    "        for letter in plain_text:\n",
    "            i = self.ALPHABETS.index(letter)\n",
    "            i = self.convert_to_binary(i)\n",
    "            i = self.padd_list(i)\n",
    "            i = self.permutate_list(i, permutation)\n",
    "            i = self.convert_to_decimal(i) \n",
    "            cipher_text += self.ALPHABETS[i]\n",
    "        return cipher_text\n",
    "            \n",
    "        \n",
    "    def decrypt(self, cipher_text, permutation):\n",
    "        plain_text = \"\"\n",
    "        inverse = self.inverse_permutation(permutation)\n",
    "        for letter in cipher_text:\n",
    "            i = self.ALPHABETS.index(letter)\n",
    "            i = self.convert_to_binary(i)\n",
    "            i = self.padd_list(i)\n",
    "            i = self.permutate_list(i, inverse)\n",
    "            i = self.convert_to_decimal(i) \n",
    "            plain_text += self.ALPHABETS[i]\n",
    "        return plain_text\n",
    "    \n",
    "ecb = ECB()\n",
    "permutation = [0, 1, 3, 4, 2]\n",
    "a = ecb.encrypt(\"driss\", permutation)\n",
    "print(a)\n",
    "b = ecb.decrypt(a, permutation)\n",
    "print(b)"
   ]
  },
  {
   "cell_type": "code",
   "execution_count": 78,
   "id": "49f41f08",
   "metadata": {},
   "outputs": [],
   "source": [
    "# class CBC:\n",
    "#     def __init__(self):\n",
    "#         self.ALPHABETS = \"abcdefghijklmnopqrstuvwxyz +-*#$\"\n",
    "#         self.vectors = []\n",
    "    \n",
    "#     def inverse_permutation(self, permutation):\n",
    "#         inverse = [0] * len(permutation)\n",
    "#         for i, p in enumerate(permutation):\n",
    "#             inverse[p] = i\n",
    "#         return inverse\n",
    "        \n",
    "    \n",
    "#     def convert_to_binary(self, a):\n",
    "#         binary = []\n",
    "#         while a > 0:\n",
    "#             binary.insert(0, a % 2)\n",
    "#             a = a // 2\n",
    "#         return binary\n",
    "        \n",
    "#     def convert_to_decimal(self, binary):\n",
    "#         decimal = 0\n",
    "#         binary.reverse()\n",
    "#         for i in range(len(binary)):\n",
    "#             decimal += (2 ** i) * binary[i]    \n",
    "#         return decimal\n",
    "    \n",
    "#     def permutate_list(self, li, permutation):\n",
    "#         permutated_li = []\n",
    "#         for i in permutation:\n",
    "#             permutated_li.append(li[i])\n",
    "#         return permutated_li\n",
    "    \n",
    "#     def padd_list(self, li):\n",
    "#         while len(li) < 5:\n",
    "#             li.insert(0, 0)\n",
    "#         return li\n",
    "    \n",
    "#     def add_binary(self, li1, li2):\n",
    "#         # the lists li1 and li2 have the same length\n",
    "#         li = []\n",
    "#         for i in range(len(li1)):\n",
    "#             if li1[i] == li2[i]:\n",
    "#                 li.append(0)\n",
    "#             else:\n",
    "#                 li.append(1)\n",
    "#         return li\n",
    "                \n",
    "    \n",
    "#     def encrypt(self, plain_text, initial_vector):\n",
    "#         cipher_text = \"\"\n",
    "#         c = initial_vector\n",
    "#         self.vectors.append(c)\n",
    "#         for letter in plain_text:\n",
    "#             i = self.ALPHABETS.index(letter)\n",
    "#             i = self.convert_to_binary(i)\n",
    "#             i = self.padd_list(i)\n",
    "#             i = self.add_binary(i, c)\n",
    "#             i = self.permutate_list(i, permutation)\n",
    "#             self.vectors.append(i)\n",
    "#             c = i\n",
    "#             i = self.convert_to_decimal(i) \n",
    "#             cipher_text += self.ALPHABETS[i]\n",
    "#         return cipher_text\n",
    "                       \n",
    "#     def decrypt(self, cipher_text):\n",
    "#         j = 0\n",
    "#         plain_text = \"\"\n",
    "#         inverse = self.inverse_permutation(permutation)\n",
    "#         for letter in cipher_text:\n",
    "#             i = self.ALPHABETS.index(letter)\n",
    "#             i = self.convert_to_binary(i)\n",
    "#             i = self.padd_list(i)\n",
    "#             i = self.permutate_list(i, inverse)\n",
    "#             i = self.add_binary(i, self.vectors[j])\n",
    "#             i = self.convert_to_decimal(i) \n",
    "#             plain_text += self.ALPHABETS[i]\n",
    "#             j += 1\n",
    "#         return plain_text\n",
    "\n",
    "# cbc = CBC()\n",
    "# permutation = [0, 1, 3, 4, 2]\n",
    "# a = cbc.encrypt(\"fatan kamal\", permutation)\n",
    "# print(a)\n",
    "# b = cbc.decrypt(a)\n",
    "# print(b)"
   ]
  },
  {
   "cell_type": "code",
   "execution_count": 82,
   "id": "371bb022",
   "metadata": {},
   "outputs": [
    {
     "name": "stdout",
     "output_type": "stream",
     "text": [
      "000102730848036724840099188817680378100110011013\n",
      "abdel majid kansoussssai\n"
     ]
    }
   ],
   "source": [
    "class RSA:\n",
    "    def __init__(self):\n",
    "        self.p = 37\n",
    "        self.q = 73\n",
    "        self.n = self.p * self.q\n",
    "        self.phi_n = (self.p - 1) * (self.q - 1)\n",
    "        self.exponent = 47\n",
    "        self.block_size = 4\n",
    "        self.ALPHABETS_TO_NUMBERS = {\"a\": \"00\", \"b\": \"01\", \"c\": \"02\", \"d\": \"03\", \"e\": \"04\", \"f\": \"05\",\n",
    "                                     \"g\": \"06\", \"h\": \"07\", \"i\": \"08\", \"j\": \"09\", \"k\": \"10\", \"l\": \"11\",\n",
    "                                     \"m\": \"12\", \"n\": \"13\", \"o\": \"14\", \"p\": \"15\", \"q\": \"16\", \"r\": \"17\",\n",
    "                                     \"s\": \"18\", \"t\": \"19\", \"u\": \"20\", \"v\": \"21\", \"w\": \"22\", \"x\": \"23\",\n",
    "                                     \"y\": \"24\", \"z\": \"25\", \" \": \"26\"}\n",
    "        self.NUMBERS_TO_ALPHABETS = {number: alphabet for alphabet, number in self.ALPHABETS_TO_NUMBERS.items()}\n",
    "\n",
    "    def padd_block(self, block):\n",
    "        new_block = block\n",
    "        while len(new_block) < self.block_size:\n",
    "            new_block = \"0\" + new_block\n",
    "        return new_block\n",
    "        \n",
    "    def convert_text_to_blocks(self, text):\n",
    "        blocks = [text[i: i + self.block_size] for i in range(0, len(text), self.block_size)]\n",
    "        last_block = blocks[-1]\n",
    "        blocks[-1] = self.padd_block(last_block)\n",
    "        return blocks\n",
    "    \n",
    "    def convert_text_to_number(self, text):\n",
    "        number = \"\"\n",
    "        for letter in text:\n",
    "            number += self.ALPHABETS_TO_NUMBERS[letter]\n",
    "        return number\n",
    "    \n",
    "    def convert_number_to_text(self, number):\n",
    "        numbers = [number[i: i + 2] for i in range(0, len(number), 2)]\n",
    "        alphabets = [self.NUMBERS_TO_ALPHABETS[number] for number in numbers]\n",
    "        return \"\".join(alphabets)\n",
    "    \n",
    "    def inverse(self, a, n):\n",
    "        for i in range(1, n):\n",
    "            if gcd(i, n) == 1:\n",
    "                if (a * i) % n == 1:\n",
    "                    return i       \n",
    "        return \"Not found\"\n",
    "    \n",
    "    def encrypt(self, plain_text):\n",
    "        cipher_text = \"\"\n",
    "        string = self.convert_text_to_number(plain_text)\n",
    "        blocks = self.convert_text_to_blocks(string)\n",
    "        for block in blocks:\n",
    "            i = int(block) ** self.exponent % self.n\n",
    "            i = self.padd_block(str(i))\n",
    "            cipher_text += i\n",
    "        return cipher_text\n",
    "            \n",
    "    def decrypt(self, cipher_text):\n",
    "        plain_text = \"\"\n",
    "        inverse = self.inverse(self.exponent, self.phi_n)\n",
    "        blocks = self.convert_text_to_blocks(cipher_text)\n",
    "        for block in blocks:\n",
    "            i = (int(block) ** inverse) % self.n\n",
    "            i = self.padd_block(str(i))\n",
    "            plain_text += self.convert_number_to_text(i)\n",
    "        return plain_text\n",
    "a = RSA().encrypt(\"abdel majid kansoussssi\")        \n",
    "print(a)\n",
    "print(RSA().decrypt(a))"
   ]
  },
  {
   "cell_type": "code",
   "execution_count": 62,
   "id": "909814f8",
   "metadata": {},
   "outputs": [
    {
     "name": "stdout",
     "output_type": "stream",
     "text": [
      "(34, '291815160371561810037', [29, 18, 15, 16, 0, 37, 15, 6, 18, 10, 0, 37])\n",
      "no way today\n"
     ]
    }
   ],
   "source": [
    "import random\n",
    "\n",
    "class ElGamal:\n",
    "    def __init__(self):\n",
    "        self.p = 43\n",
    "        self.a = 22\n",
    "        self.r = 3\n",
    "        self.k = 15\n",
    "        self.block_size = 2\n",
    "        self.ALPHABETS_TO_NUMBERS = {\"a\": \"00\", \"b\": \"01\", \"c\": \"02\", \"d\": \"03\", \"e\": \"04\", \"f\": \"05\",\n",
    "                                     \"g\": \"06\", \"h\": \"07\", \"i\": \"08\", \"j\": \"09\", \"k\": \"10\", \"l\": \"11\",\n",
    "                                     \"m\": \"12\", \"n\": \"13\", \"o\": \"14\", \"p\": \"15\", \"q\": \"16\", \"r\": \"17\",\n",
    "                                     \"s\": \"18\", \"t\": \"19\", \"u\": \"20\", \"v\": \"21\", \"w\": \"22\", \"x\": \"23\",\n",
    "                                     \"y\": \"24\", \"z\": \"25\", \" \": \"26\"}\n",
    "        self.NUMBERS_TO_ALPHABETS = {number: alphabet for alphabet, number in self.ALPHABETS_TO_NUMBERS.items()}\n",
    "\n",
    "    def padd_block(self, block):\n",
    "        new_block = block\n",
    "        while len(new_block) < self.block_size:\n",
    "            new_block = \"0\" + new_block\n",
    "        return new_block\n",
    "        \n",
    "    def convert_text_to_blocks(self, text):\n",
    "        blocks = [text[i: i + self.block_size] for i in range(0, len(text), self.block_size)]\n",
    "        last_block = blocks[-1]\n",
    "        blocks[-1] = self.padd_block(last_block)\n",
    "        return blocks\n",
    "      \n",
    "        \n",
    "    def convert_text_to_number(self, text):\n",
    "        number = \"\"\n",
    "        for letter in text:\n",
    "            number += self.ALPHABETS_TO_NUMBERS[letter]\n",
    "        return number\n",
    "    \n",
    "    def convert_number_to_text(self, number):\n",
    "        numbers = [number[i: i + 2] for i in range(0, len(number), 2)]\n",
    "        alphabets = [self.NUMBERS_TO_ALPHABETS[number] for number in numbers]\n",
    "        return \"\".join(alphabets)\n",
    "    \n",
    "        \n",
    "    def encrypt(self, plain_text):\n",
    "        li = []\n",
    "        cipher_text = \"\"\n",
    "        j = 23\n",
    "        string = self.convert_text_to_number(plain_text)\n",
    "        blocks = self.convert_text_to_blocks(string)\n",
    "        c1 = (self.r ** j) % self.p\n",
    "        for block in blocks:\n",
    "            i = (int(block) * self.a ** j) % self.p\n",
    "            cipher_text += str(i)\n",
    "            li.append(i)\n",
    "        return c1, cipher_text, li\n",
    "    \n",
    "    def decrypt(self, c1, li):\n",
    "        temp = c1 ** (self.p - self.k - 1) % self.p\n",
    "        plain_text = \"\"\n",
    "        for number in li:\n",
    "            i = (number * temp) % self.p\n",
    "            i = self.padd_block(str(i))\n",
    "            plain_text += self.convert_number_to_text(i)\n",
    "        return plain_text\n",
    "        \n",
    "        \n",
    "        \n",
    "a = ElGamal().encrypt(\"no way today\")\n",
    "print(a)\n",
    "b = ElGamal().decrypt(a[0], a[2])\n",
    "print(b)"
   ]
  },
  {
   "cell_type": "code",
   "execution_count": 23,
   "id": "e1670fe6",
   "metadata": {},
   "outputs": [
    {
     "data": {
      "text/plain": [
       "'xoiirpfloot'"
      ]
     },
     "execution_count": 23,
     "metadata": {},
     "output_type": "execute_result"
    }
   ],
   "source": [
    "class Vigenere:\n",
    "    def __init__(self):\n",
    "        self.KEYWORD = \"hello\"\n",
    "        self.CHARACTERS = \" abcdefghijklmnopqrstuvwxyz\"\n",
    "               \n",
    "    def repeat_keyword(self, plain_text):\n",
    "        repeated_keyword = []\n",
    "        counter = 0\n",
    "        while len(repeated_keyword) < len(plain_text):\n",
    "            char = self.KEYWORD[counter]\n",
    "            repeated_keyword.append(self.CHARACTERS.index(char))\n",
    "            counter = (counter + 1) % len(self.KEYWORD)\n",
    "        return repeated_keyword\n",
    "        \n",
    "    def encrypt(self, plain_text):\n",
    "        blocks = [self.CHARACTERS.index(char) for char in plain_text]\n",
    "        repeated_keyword = self.repeat_keyword(plain_text) \n",
    "        cipher_text = []\n",
    "        for i in range(len(blocks)):\n",
    "            char_index = (blocks[i] + repeated_keyword[i]) % len(self.CHARACTERS)\n",
    "            cipher_text.append(self.CHARACTERS[char_index])\n",
    "        cipher_text = \"\".join(cipher_text)\n",
    "        return cipher_text\n",
    "    \n",
    "    def decrypt(self, cipher_text):\n",
    "        blocks = [self.CHARACTERS.index(char) for char in cipher_text]\n",
    "        repeated_keyword = self.repeat_keyword(cipher_text)\n",
    "        for i in range(len(blocks)):\n",
    "            char_index = (blocks[i] - repeated_keyword[i]) % len(self.CHARACTERS)\n",
    "            plain_text.append(self.CHARACTERS[char_index])\n",
    "        plain_text = \"\".join(cipher_text)\n",
    "        return plain_text\n",
    "        \n",
    "        \n",
    "        \n",
    "Vigenere().encrypt(\"hello world\")\n",
    "Vigenere().encrypt('pjxxcha c l')"
   ]
  },
  {
   "cell_type": "code",
   "execution_count": 1,
   "id": "cec68b0f",
   "metadata": {},
   "outputs": [
    {
     "name": "stdout",
     "output_type": "stream",
     "text": [
      "23\n"
     ]
    },
    {
     "ename": "TypeError",
     "evalue": "unsupported operand type(s) for *: 'NoneType' and 'int'",
     "output_type": "error",
     "traceback": [
      "\u001b[1;31m---------------------------------------------------------------------------\u001b[0m",
      "\u001b[1;31mTypeError\u001b[0m                                 Traceback (most recent call last)",
      "Cell \u001b[1;32mIn[1], line 87\u001b[0m\n\u001b[0;32m     85\u001b[0m \u001b[38;5;28mprint\u001b[39m(dl\u001b[38;5;241m.\u001b[39mbaby_giant(\u001b[38;5;241m5\u001b[39m, \u001b[38;5;241m20\u001b[39m, \u001b[38;5;241m37\u001b[39m))\n\u001b[0;32m     86\u001b[0m \u001b[38;5;66;03m# print(dl.factorize(7))\u001b[39;00m\n\u001b[1;32m---> 87\u001b[0m \u001b[43mdl\u001b[49m\u001b[38;5;241;43m.\u001b[39;49m\u001b[43mpohlig_hellman\u001b[49m\u001b[43m(\u001b[49m\u001b[38;5;241;43m5\u001b[39;49m\u001b[43m,\u001b[49m\u001b[43m \u001b[49m\u001b[38;5;241;43m20\u001b[39;49m\u001b[43m,\u001b[49m\u001b[43m \u001b[49m\u001b[38;5;241;43m37\u001b[39;49m\u001b[43m)\u001b[49m\n",
      "Cell \u001b[1;32mIn[1], line 76\u001b[0m, in \u001b[0;36mDiscret_Logarithm.pohlig_hellman\u001b[1;34m(self, g, h, p)\u001b[0m\n\u001b[0;32m     74\u001b[0m         H \u001b[38;5;241m=\u001b[39m ((h \u001b[38;5;241m*\u001b[39m (g_i_inverse \u001b[38;5;241m*\u001b[39m\u001b[38;5;241m*\u001b[39m x_i)) \u001b[38;5;241m*\u001b[39m\u001b[38;5;241m*\u001b[39m p_i \u001b[38;5;241m*\u001b[39m\u001b[38;5;241m*\u001b[39m (alpha_i \u001b[38;5;241m-\u001b[39m j \u001b[38;5;241m-\u001b[39m \u001b[38;5;241m1\u001b[39m)) \u001b[38;5;241m%\u001b[39m p\n\u001b[0;32m     75\u001b[0m         lambda_j \u001b[38;5;241m=\u001b[39m \u001b[38;5;28mself\u001b[39m\u001b[38;5;241m.\u001b[39mbaby_giant(G, H, p)\n\u001b[1;32m---> 76\u001b[0m         x_i \u001b[38;5;241m+\u001b[39m\u001b[38;5;241m=\u001b[39m \u001b[43mlambda_j\u001b[49m\u001b[43m \u001b[49m\u001b[38;5;241;43m*\u001b[39;49m\u001b[43m \u001b[49m\u001b[43m(\u001b[49m\u001b[43mp_i\u001b[49m\u001b[43m \u001b[49m\u001b[38;5;241;43m*\u001b[39;49m\u001b[38;5;241;43m*\u001b[39;49m\u001b[43m \u001b[49m\u001b[43mj\u001b[49m\u001b[43m)\u001b[49m\n\u001b[0;32m     77\u001b[0m     remainders\u001b[38;5;241m.\u001b[39mappend(x_i)\n\u001b[0;32m     79\u001b[0m x \u001b[38;5;241m=\u001b[39m \u001b[38;5;28mself\u001b[39m\u001b[38;5;241m.\u001b[39msolve_system(remainders, modulus)\n",
      "\u001b[1;31mTypeError\u001b[0m: unsupported operand type(s) for *: 'NoneType' and 'int'"
     ]
    }
   ],
   "source": [
    "import math\n",
    "class Discret_Logarithm:\n",
    "        \n",
    "    def inverse(self, a, n):\n",
    "        for i in range(1, n):\n",
    "            if self.gcd(i, n) == 1:\n",
    "                if (a * i) % n == 1:\n",
    "                    return i       \n",
    "        return \"Not found\"\n",
    "    \n",
    "    def gcd(self, a, b):\n",
    "        while b != 0:\n",
    "            a, b =  b, a % b\n",
    "        return a\n",
    "    \n",
    "    def baby_giant(self, g ,h, p):\n",
    "        n = math.ceil(math.sqrt(p - 1))\n",
    "        baby_list = []\n",
    "        giant_list = []\n",
    "        inverse_of_g = self.inverse(g, p)   \n",
    "        for i in range(n):\n",
    "            baby_list.append((g ** i) % p)\n",
    "            giant_list.append((h * (inverse_of_g) ** (n * i)) % p) \n",
    "        for i in range(n):\n",
    "            for j in range(n):\n",
    "                if baby_list[i] == giant_list[j]:\n",
    "                    return  i + n * j\n",
    "                \n",
    "    def solve_system(self, remainders, modulus):\n",
    "        m = len(modulus)\n",
    "        solution = 0\n",
    "        n = 1  \n",
    "        for i in range(m):\n",
    "            n = n * modulus[i]        \n",
    "        for i in range(m):\n",
    "            ni = modulus[i]\n",
    "            Ni = n / ni\n",
    "            xi = self.inverse(Ni, ni)\n",
    "            ai = remainders[i]\n",
    "            solution += ai * xi * Ni\n",
    "        return solution\n",
    "\n",
    "    def factorize(self, n):\n",
    "        factors = []\n",
    "        powers = []\n",
    "        for i in range(2, n + 1):\n",
    "            if n % i == 0:\n",
    "                factors.append(i)\n",
    "                power = 0\n",
    "                while n % i == 0:\n",
    "                        n = n / i\n",
    "                        power += 1\n",
    "                powers.append(power)\n",
    "        return factors, powers\n",
    "                \n",
    "    def pohlig_hellman(self, g, h, p):\n",
    "        n = p - 1\n",
    "        factors, powers = self.factorize(n)\n",
    "        remainders = []\n",
    "        modulus = []\n",
    "        \n",
    "        for i in range(len(factors)):\n",
    "            modulus.append(factors[i] ** powers[i])\n",
    "        \n",
    "        for i in range(len(factors)):\n",
    "            p_i = factors[i]\n",
    "            alpha_i = powers[i]\n",
    "            q_i = n // (p_i ** alpha_i)\n",
    "            g_i = (g ** q_i) % p\n",
    "            g_i_inverse = self.inverse(g_i, p)\n",
    "            G = (g_i ** p_i ** (alpha_i - 1)) % p\n",
    "            x_i = 0\n",
    "            for j in range(0, alpha_i):\n",
    "                H = ((h * (g_i_inverse ** x_i)) ** p_i ** (alpha_i - j - 1)) % p\n",
    "                lambda_j = self.baby_giant(G, H, p)\n",
    "                x_i += lambda_j * (p_i ** j)\n",
    "            remainders.append(x_i)\n",
    "            \n",
    "        x = self.solve_system(remainders, modulus)\n",
    "        return x \n",
    "                \n",
    "    \n",
    "\n",
    "dl = Discret_Logarithm()\n",
    "print(dl.baby_giant(5, 20, 37))\n",
    "# print(dl.factorize(7))\n",
    "dl.pohlig_hellman(5, 20, 37)"
   ]
  },
  {
   "cell_type": "code",
   "execution_count": null,
   "id": "48a8a5c1",
   "metadata": {},
   "outputs": [],
   "source": [
    "class Elliptic_Curve:\n",
    "    def __init__(self, A, B, mod):\n",
    "        self.A = A\n",
    "        self.B = B\n",
    "        self.mod = mod\n",
    "\n",
    "    def inverse(self, a, n):\n",
    "        for i in range(1, n):\n",
    "            if self.gcd(i, n) == 1:\n",
    "                if (a * i) % n == 1:\n",
    "                    return i       \n",
    "        return \"Not found\"\n",
    "    \n",
    "    def gcd(self, a, b):\n",
    "        while b != 0:\n",
    "            a, b =  b, a % b\n",
    "        return a\n",
    "\n",
    "    def add(self, P1, P2):\n",
    "        x1, y1 = P1\n",
    "        x2, y2 = P2\n",
    "        if x1 != x2:\n",
    "            m = ((y2 - y1) * self.inverse(x2 - x1, self.mod)) % self.mod\n",
    "            x3 = (m ** 2 - x1 - x2) % self.mod\n",
    "            y3 = (m * (x1 - x3) - y1) % self.mod\n",
    "            return (x3, y3)\n",
    "        if (x1 == x2 and y1 == -y2) or (x1 == x2 and y2 == 0 and y1 == 0):\n",
    "            return \"Infinity\"\n",
    "        if x1 == x2 and y1 == y2 and y1 != 0:\n",
    "            m = ((3 * x1 ** 2 + self.A) * self.inverse(2 * y1, self.mod)) % self.mod\n",
    "            x3 = (m ** 2 - 2 * x1) % self.mod\n",
    "            y3 = (m * (x1 - x3) - y1) % self.mod\n",
    "            return (x3, y3)\n",
    "\n",
    "    def is_on_curve(self, P):\n",
    "        x, y = P\n",
    "        return y ** 2 == x ** 3 + 2 * x + 3\n",
    "\n",
    "ec = Elliptic_Curve(1, 1, 23)"
   ]
  },
  {
   "cell_type": "code",
   "execution_count": 1,
   "id": "64c8fc1a-eec2-4692-a5fb-959b4aa91722",
   "metadata": {},
   "outputs": [
    {
     "data": {
      "text/plain": [
       "'C:\\\\Users\\\\PC'"
      ]
     },
     "execution_count": 1,
     "metadata": {},
     "output_type": "execute_result"
    }
   ],
   "source": [
    "import os\n",
    "os.getcwd() "
   ]
  },
  {
   "cell_type": "code",
   "execution_count": null,
   "id": "a895eba6",
   "metadata": {},
   "outputs": [],
   "source": []
  }
 ],
 "metadata": {
  "kernelspec": {
   "display_name": "Python 3 (ipykernel)",
   "language": "python",
   "name": "python3"
  },
  "language_info": {
   "codemirror_mode": {
    "name": "ipython",
    "version": 3
   },
   "file_extension": ".py",
   "mimetype": "text/x-python",
   "name": "python",
   "nbconvert_exporter": "python",
   "pygments_lexer": "ipython3",
   "version": "3.9.12"
  }
 },
 "nbformat": 4,
 "nbformat_minor": 5
}
